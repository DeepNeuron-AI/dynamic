{
 "cells": [
  {
   "cell_type": "code",
   "execution_count": 46,
   "metadata": {},
   "outputs": [],
   "source": [
    "from pathlib import Path\n",
    "\n",
    "import cv2\n",
    "import numpy as np\n",
    "from tqdm import tqdm\n",
    "\n",
    "import echonet"
   ]
  },
  {
   "cell_type": "code",
   "execution_count": 47,
   "metadata": {},
   "outputs": [],
   "source": [
    "LEFT_SEGMENT_DIR = Path(\"output/segmentation/all-patients\")\n",
    "RIGHT_SEGMENT_DIR = Path(\"output/segmentation/flipped\")\n",
    "ECHONET_VIDEO_DIR = Path(\"/home/lex/data/echonet-data/Videos\")\n",
    "OUTPUT_DIR = Path(\"output/right-only-segmentation\")\n",
    "OUTPUT_DIR.mkdir(parents=True)\n",
    "\n",
    "RED = np.array([255, 0, 0])\n",
    "GREEN = np.array([0, 255, 0])\n",
    "BLUE = np.array([0, 0, 255])\n",
    "ORANGE = np.array([255, 165, 0])"
   ]
  },
  {
   "cell_type": "code",
   "execution_count": 48,
   "metadata": {},
   "outputs": [],
   "source": [
    "def get_heights(mask: np.ndarray):\n",
    "    \"\"\"Returns array of heights of mask for each frame!\"\"\"\n",
    "    frame_indices, row_indices = np.where(mask.any(axis=1)==True)\n",
    "\n",
    "    heights = []\n",
    "    for frame_index in range(mask.shape[0]):\n",
    "        this_frame = frame_indices == frame_index\n",
    "\n",
    "        if len(row_indices[this_frame]) == 0:\n",
    "            # print(f\"Frame #{frame_index} appears to have no segmentations? Treating this as zero height...\")\n",
    "            heights.append(0)\n",
    "            continue\n",
    "\n",
    "        min_row, max_row = (min(row_indices[this_frame]), max(row_indices[this_frame]))\n",
    "        height = max_row - min_row\n",
    "        heights.append(height)\n",
    "\n",
    "    heights = np.array(heights)\n",
    "    return heights"
   ]
  },
  {
   "cell_type": "code",
   "execution_count": 51,
   "metadata": {},
   "outputs": [
    {
     "name": "stderr",
     "output_type": "stream",
     "text": [
      "100%|██████████| 1276/1276 [01:47<00:00, 11.84it/s]\n"
     ]
    }
   ],
   "source": [
    "left_segment_mask_fps = [p for p in (LEFT_SEGMENT_DIR / \"segmentation_masks\").iterdir()]\n",
    "for left_segment_mask_fp in tqdm(left_segment_mask_fps):\n",
    "    # Get associated segment masks for this particular video\n",
    "    # video_mask_name = video_fp.with_suffix(\".npy\").name # Turns \"path/to/video.avi\" into \"video.npy\"\n",
    "    # left_segment_mask_fp = LEFT_SEGMENT_DIR / \"segmentation_masks\" / video_mask_name\n",
    "    video_stem = Path(left_segment_mask_fp.stem) # turns \"path/to/0x12345.npy\" into just \"0x12345\"\n",
    "    right_segment_mask_fp = RIGHT_SEGMENT_DIR / \"segmentation_masks\" / video_stem.with_suffix(\".npy\")\n",
    "    echonet_video_fp = ECHONET_VIDEO_DIR / video_stem.with_suffix(\".avi\")\n",
    "    # print(f\"Processing {echonet_video_fp}...\")\n",
    "\n",
    "    left_segment_mask = np.load(left_segment_mask_fp)\n",
    "    right_segment_mask = np.load(right_segment_mask_fp)\n",
    "    echonet_video = echonet.utils.loadvideo(str(echonet_video_fp))\n",
    "\n",
    "    # Since right mask comes from flipped version of video, we need to flip it back to normal (i.e. left-to-right)\n",
    "    right_segment_mask = np.flip(right_segment_mask, axis=-1)\n",
    "\n",
    "    # Keep track of the mistaken left ventricle segmentation by the \"right\" segmentation mask\n",
    "    mistaken_left_mask = left_segment_mask & right_segment_mask\n",
    "    # Subtract those mistaken left ventricle parts from the right segmentation\n",
    "    right_only_mask = right_segment_mask ^ (mistaken_left_mask)\n",
    "\n",
    "    # Get heights of left and right ventricles, check if right ventricle appears unreasonably large (i.e. probably including atrium accidentally!)\n",
    "    left_heights = get_heights(left_segment_mask)\n",
    "    right_heights = get_heights(right_only_mask)\n",
    "    frames_with_too_large_RV_mask = right_heights > 0.8 * left_heights\n",
    "\n",
    "    # Put colour channels at end to make it easier to assign pixel colours\n",
    "    echonet_video = echonet_video.transpose((1, 2, 3, 0)) # I.e. now (frames, height, width, colours)\n",
    "    echonet_video[left_segment_mask] = RED\n",
    "    echonet_video[right_only_mask] = BLUE\n",
    "    echonet_video[mistaken_left_mask] = GREEN\n",
    "        \n",
    "    border_thickness = 2\n",
    "    echonet_video[frames_with_too_large_RV_mask, 0:border_thickness, :] = ORANGE\n",
    "    echonet_video[frames_with_too_large_RV_mask, -border_thickness:, :] = ORANGE\n",
    "    echonet_video[frames_with_too_large_RV_mask, :, 0:border_thickness] = ORANGE\n",
    "    echonet_video[frames_with_too_large_RV_mask, :, -border_thickness:] = ORANGE\n",
    "\n",
    "    # Transpose video back to original shape now and save\n",
    "    echonet_video = echonet_video.transpose((3, 0, 1, 2)) # now (colours, frames, height, width) as before\n",
    "    output_fp = OUTPUT_DIR / video_stem.with_suffix(\".avi\")\n",
    "    echonet.utils.savevideo(str(output_fp), echonet_video, 30)"
   ]
  },
  {
   "cell_type": "code",
   "execution_count": null,
   "metadata": {},
   "outputs": [],
   "source": []
  }
 ],
 "metadata": {
  "kernelspec": {
   "display_name": "echonet-dynamic",
   "language": "python",
   "name": "python3"
  },
  "language_info": {
   "codemirror_mode": {
    "name": "ipython",
    "version": 3
   },
   "file_extension": ".py",
   "mimetype": "text/x-python",
   "name": "python",
   "nbconvert_exporter": "python",
   "pygments_lexer": "ipython3",
   "version": "3.9.15"
  },
  "orig_nbformat": 4,
  "vscode": {
   "interpreter": {
    "hash": "3bc71685062c927735a78a523c8bc79391b4d56d4e0dc3870cb3ecfb63cf9211"
   }
  }
 },
 "nbformat": 4,
 "nbformat_minor": 2
}
