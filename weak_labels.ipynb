{
 "cells": [
  {
   "cell_type": "code",
   "execution_count": 1,
   "metadata": {},
   "outputs": [],
   "source": [
    "from pathlib import Path\n",
    "\n",
    "import cv2\n",
    "import numpy as np\n",
    "\n",
    "import echonet"
   ]
  },
  {
   "cell_type": "code",
   "execution_count": 7,
   "metadata": {},
   "outputs": [],
   "source": [
    "ECHONET_DIR = Path(\"/fs04/vf38/ultrasound/agallon/output/segmentation/all-patients/videos\")\n",
    "FLIPPED_DIR = Path(\"/fs04/vf38/ultrasound/agallon/output/segmentation/flipped/videos\")\n",
    "ECHONET_INPUT_DIR = Path(\"/fs03/vf38/ultrasound/echonet-data/Videos\")"
   ]
  },
  {
   "cell_type": "code",
   "execution_count": 39,
   "metadata": {},
   "outputs": [],
   "source": [
    "def find_mask(video):\n",
    "    # (channels, frames, height, width)\n",
    "\n",
    "    is_red = (video[0] > 230) # (frames, height, width)\n",
    "    is_notgreen = (video[1] < 50)\n",
    "    is_notblue = (video[2] <50)\n",
    "\n",
    "    # return is_red\n",
    "    return is_red & is_notgreen & is_notblue\n"
   ]
  },
  {
   "cell_type": "code",
   "execution_count": null,
   "metadata": {},
   "outputs": [],
   "source": [
    "def find_height(mask):\n",
    "    max_height = mask.shape[1]\n",
    "\n",
    "    min_y = max_height - 1\n",
    "    max_y = 0\n",
    "    for i in range(max_height):\n",
    "        row = mask[:, ]\n"
   ]
  },
  {
   "cell_type": "code",
   "execution_count": 50,
   "metadata": {},
   "outputs": [],
   "source": [
    "def first_nonzero(arr, axis, invalid_val=-1):\n",
    "    mask = arr!=0\n",
    "    return np.where(mask.any(axis=axis), mask.argmax(axis=axis), invalid_val)"
   ]
  },
  {
   "cell_type": "code",
   "execution_count": 100,
   "metadata": {},
   "outputs": [],
   "source": [
    "def get_heights(mask):\n",
    "    \"\"\"Returns array of heights of mask for each frame!\"\"\"\n",
    "    frame_indices, row_indices = np.where(mask.any(axis=1)==True)\n",
    "\n",
    "    heights = []\n",
    "    for frame_index in range(mask.shape[0]):\n",
    "        this_frame = frame_indices == frame_index\n",
    "        min_row, max_row = (min(row_indices[this_frame]), max(row_indices[this_frame]))\n",
    "        height = max_row - min_row\n",
    "        heights.append(height)\n",
    "\n",
    "    heights = np.array(heights)\n",
    "    return heights"
   ]
  },
  {
   "cell_type": "code",
   "execution_count": 104,
   "metadata": {},
   "outputs": [
    {
     "name": "stdout",
     "output_type": "stream",
     "text": [
      "[False False False False False False False False False False False False\n",
      " False False False False False False False False False False False False\n",
      " False False False False False False False False False False False False\n",
      " False False False False False False False False False False False False\n",
      " False False False False False False False False False False False False\n",
      " False False False False False False False False False False False False\n",
      " False False False False False False False False False False False False\n",
      " False False False False False False False False False False  True  True\n",
      " False False  True  True False  True  True  True  True  True False False\n",
      "  True  True  True  True  True  True  True  True  True False False False\n",
      "  True  True  True  True  True False False False False False False False\n",
      " False False False False False False False False False False False False\n",
      " False False False False False False  True  True  True  True  True  True\n",
      "  True  True  True  True  True False False False False  True  True  True\n",
      "  True  True  True  True  True False  True  True False False False  True\n",
      "  True  True False False False False False  True  True  True False False\n",
      " False False False False False  True  True False  True False False  True\n",
      "  True  True  True  True  True False  True  True  True  True False False\n",
      " False False False  True  True  True  True  True]\n",
      "[False False False False False False False False  True  True  True  True\n",
      " False  True False  True  True False False  True  True  True  True  True\n",
      "  True  True  True False False False False False False False False False\n",
      " False False False False False False False False False False False False\n",
      " False False False False False False  True  True  True False  True  True\n",
      " False  True  True  True  True  True  True  True  True  True  True  True\n",
      "  True  True False False False False False False False False False False\n",
      " False False False False False False False False False False False False\n",
      " False False False False False False  True  True  True  True  True  True\n",
      "  True  True False  True  True  True  True  True  True  True  True  True\n",
      "  True False False False False False False False False False False False\n",
      " False False False False False False False False False False False False\n",
      " False False False False False False False  True  True False  True  True\n",
      "  True  True False False  True  True  True  True  True  True  True  True\n",
      " False False False False False False False False False False False False\n",
      " False False False False False False False False]\n"
     ]
    }
   ],
   "source": [
    "for i, video_fp in enumerate(ECHONET_DIR.iterdir()):\n",
    "    if i > 1:\n",
    "        break\n",
    "    echonet_segment_video = echonet.utils.loadvideo(str(video_fp))\n",
    "    echonet_segment_video = echonet_segment_video[:, :, 0:112, 112:]\n",
    "    left_only_mask = find_mask(echonet_segment_video)\n",
    "\n",
    "    video_name = video_fp.name\n",
    "    flipped_video_fp = FLIPPED_DIR / video_name\n",
    "\n",
    "    flipped_video = echonet.utils.loadvideo(str(flipped_video_fp))\n",
    "    flipped_video = flipped_video[:, :, 0:112, 112:]\n",
    "    flipped_video = np.flip(flipped_video, axis=3)\n",
    "    flipped_mask = find_mask(flipped_video)\n",
    "\n",
    "    or_mask = left_only_mask | flipped_mask\n",
    "    and_mask = left_only_mask & flipped_mask\n",
    "    echonet_video_fp = ECHONET_INPUT_DIR / video_name\n",
    "    echonet_video = echonet.utils.loadvideo(str(echonet_video_fp))\n",
    "\n",
    "    # left_only = echonet_mask - and_mask\n",
    "    # both_only \n",
    "\n",
    "    right_only_mask = flipped_mask ^ (left_only_mask & flipped_mask) \n",
    "\n",
    "    left_heights = get_heights(left_only_mask)\n",
    "    right_heights = get_heights(right_only_mask)\n",
    "    bad_heights = right_heights > 0.8 * left_heights\n",
    "    print(bad_heights)\n",
    "    # print((bad_heights == False).sum())\n",
    "    # print(right_heights > left_heights)\n",
    "    # print(left_heights)\n",
    "    # print(right_heights)\n",
    "\n",
    "\n",
    "    echonet_video[0, right_only_mask] = 0\n",
    "    echonet_video[1, right_only_mask] = 0\n",
    "    echonet_video[2, right_only_mask] = 255\n",
    "\n",
    "    echonet_video[0, left_only_mask] = 255\n",
    "    echonet_video[1, left_only_mask] = 0\n",
    "    echonet_video[2, left_only_mask] = 0\n",
    "\n",
    "    echonet_video[0, and_mask] = 0\n",
    "    echonet_video[1, and_mask] = 255\n",
    "    echonet_video[2, and_mask] = 0\n",
    "    \n",
    "    echonet_video[0, bad_heights, 0, :] = 255\n",
    "    echonet_video[1, bad_heights, 0, :] = 0\n",
    "    echonet_video[2, bad_heights, 0, :] = 0\n",
    "    echonet_video[0, bad_heights, -1, :] = 255\n",
    "    echonet_video[1, bad_heights, -1, :] = 0\n",
    "    echonet_video[2, bad_heights, -1, :] = 0\n",
    "\n",
    "    echonet.utils.savevideo(\"blah.avi\", echonet_video, 30)\n",
    "\n",
    "    # Just Left segmentation = RED (ORIGINAL VIDEO)\n",
    "    # Just Right segmentation = BLUE ()\n",
    "    # Both segmentations = GREEN (AND)\n"
   ]
  },
  {
   "cell_type": "code",
   "execution_count": 20,
   "metadata": {},
   "outputs": [
    {
     "name": "stdout",
     "output_type": "stream",
     "text": [
      "(3, 224, 112, 112)\n",
      "(224, 112, 112)\n",
      "(224, 112, 112)\n"
     ]
    }
   ],
   "source": [
    "print(flipped_video.shape)\n",
    "print(flipped_mask.shape)\n",
    "print(or_mask.shape)"
   ]
  },
  {
   "cell_type": "code",
   "execution_count": 48,
   "metadata": {},
   "outputs": [
    {
     "data": {
      "text/plain": [
       "(188, 112, 112)"
      ]
     },
     "execution_count": 48,
     "metadata": {},
     "output_type": "execute_result"
    }
   ],
   "source": [
    "flipped_mask.shape"
   ]
  },
  {
   "cell_type": "code",
   "execution_count": 91,
   "metadata": {},
   "outputs": [],
   "source": []
  },
  {
   "cell_type": "code",
   "execution_count": 15,
   "metadata": {},
   "outputs": [
    {
     "ename": "",
     "evalue": "",
     "output_type": "error",
     "traceback": [
      "\u001b[1;31mThe Kernel crashed while executing code in the the current cell or a previous cell. Please review the code in the cell(s) to identify a possible cause of the failure. Click <a href='https://aka.ms/vscodeJupyterKernelCrash'>here</a> for more info. View Jupyter <a href='command:jupyter.viewOutput'>log</a> for further details."
     ]
    },
    {
     "ename": "",
     "evalue": "",
     "output_type": "error",
     "traceback": [
      "\u001b[1;31mCanceled future for execute_request message before replies were done"
     ]
    }
   ],
   "source": [
    "\n",
    "# frame_index = 0\n",
    "# while frame_index < len(echonet_video[1]):\n",
    "#     frame = echonet_video[frame_index]\n",
    "\n",
    "#     # Display the resulting frame\n",
    "#     cv2.imshow('Frame',frame)\n",
    " \n",
    "#     # Press Q on keyboard to  exit\n",
    "#     if cv2.waitKey(25) & 0xFF == ord('q'):\n",
    "#         break\n",
    "    \n",
    "#     frame_index += 1\n",
    "\n",
    "\n",
    "# cv2.destroyAllWindows()"
   ]
  },
  {
   "cell_type": "code",
   "execution_count": null,
   "metadata": {},
   "outputs": [],
   "source": []
  }
 ],
 "metadata": {
  "kernelspec": {
   "display_name": "echonet-dynamic",
   "language": "python",
   "name": "python3"
  },
  "language_info": {
   "codemirror_mode": {
    "name": "ipython",
    "version": 3
   },
   "file_extension": ".py",
   "mimetype": "text/x-python",
   "name": "python",
   "nbconvert_exporter": "python",
   "pygments_lexer": "ipython3",
   "version": "3.9.15"
  },
  "orig_nbformat": 4,
  "vscode": {
   "interpreter": {
    "hash": "3bc71685062c927735a78a523c8bc79391b4d56d4e0dc3870cb3ecfb63cf9211"
   }
  }
 },
 "nbformat": 4,
 "nbformat_minor": 2
}
