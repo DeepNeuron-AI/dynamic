{
 "cells": [
  {
   "attachments": {},
   "cell_type": "markdown",
   "metadata": {},
   "source": [
    "# Combining original and flipped segmentations to get purely right-ventricle segmentations"
   ]
  },
  {
   "cell_type": "code",
   "execution_count": 1,
   "metadata": {},
   "outputs": [],
   "source": [
    "from pathlib import Path\n",
    "import sys\n",
    "\n",
    "import cv2\n",
    "import numpy as np\n",
    "from tqdm import tqdm\n",
    "\n",
    "import echonet\n",
    "\n",
    "# print(cv2.getBuildInformation())"
   ]
  },
  {
   "cell_type": "code",
   "execution_count": 2,
   "metadata": {},
   "outputs": [],
   "source": [
    "LEFT_SEGMENT_DIR = Path(\"output/segmentation/all-patients\")\n",
    "RIGHT_SEGMENT_DIR = Path(\"output/segmentation/flipped\")\n",
    "ECHONET_VIDEO_DIR = Path(\"/home/lex/data/echonet-data/Videos\")\n",
    "OUTPUT_DIR = Path(\"output/right-only-segmentation\")\n",
    "OUTPUT_DIR.mkdir(parents=True, exist_ok=True)\n",
    "\n",
    "RED = np.array([255, 0, 0])\n",
    "GREEN = np.array([0, 255, 0])\n",
    "BLUE = np.array([0, 0, 255])\n",
    "ORANGE = np.array([255, 165, 0])\n",
    "LIGHT_GREY = np.array([211, 211, 211])"
   ]
  },
  {
   "cell_type": "code",
   "execution_count": 3,
   "metadata": {},
   "outputs": [],
   "source": [
    "def get_heights(mask: np.ndarray):\n",
    "    \"\"\"Returns array of heights of mask for each frame!\"\"\"\n",
    "    frame_indices, row_indices = np.where(mask.any(axis=1)==True)\n",
    "\n",
    "    heights = []\n",
    "    for frame_index in range(mask.shape[0]):\n",
    "        this_frame = frame_indices == frame_index\n",
    "\n",
    "        if len(row_indices[this_frame]) == 0:\n",
    "            # print(f\"Frame #{frame_index} appears to have no segmentations? Treating this as zero height...\")\n",
    "            heights.append(0)\n",
    "            continue\n",
    "\n",
    "        min_row, max_row = (min(row_indices[this_frame]), max(row_indices[this_frame]))\n",
    "        height = max_row - min_row\n",
    "        heights.append(height)\n",
    "\n",
    "    heights = np.array(heights)\n",
    "    return heights"
   ]
  },
  {
   "cell_type": "code",
   "execution_count": null,
   "metadata": {},
   "outputs": [],
   "source": [
    "left_segment_mask_fps = [p for p in (LEFT_SEGMENT_DIR / \"segmentation_masks\").iterdir()]\n",
    "for left_segment_mask_fp in tqdm(left_segment_mask_fps):\n",
    "    # Get associated segment masks for this particular video\n",
    "    # video_mask_name = video_fp.with_suffix(\".npy\").name # Turns \"path/to/video.avi\" into \"video.npy\"\n",
    "    video_stem = Path(left_segment_mask_fp.stem) # turns \"path/to/0x12345.npy\" into just \"0x12345\"\n",
    "    right_segment_mask_fp = RIGHT_SEGMENT_DIR / \"segmentation_masks\" / video_stem.with_suffix(\".npy\")\n",
    "    echonet_video_fp = ECHONET_VIDEO_DIR / video_stem.with_suffix(\".avi\")\n",
    "    # print(f\"Processing {echonet_video_fp}...\")\n",
    "\n",
    "    left_segment_mask = np.load(left_segment_mask_fp)\n",
    "    right_segment_mask = np.load(right_segment_mask_fp)\n",
    "    echonet_video = echonet.utils.loadvideo(str(echonet_video_fp))\n",
    "\n",
    "    # Since right mask comes from flipped version of video, we need to flip it back to normal (i.e. left-to-right)\n",
    "    right_segment_mask = np.flip(right_segment_mask, axis=-1)\n",
    "\n",
    "    # Keep track of the mistaken left ventricle segmentation by the \"right\" segmentation mask\n",
    "    mistaken_left_mask = left_segment_mask & right_segment_mask\n",
    "    # Subtract those mistaken left ventricle parts from the right segmentation\n",
    "    right_only_mask = right_segment_mask ^ (mistaken_left_mask)\n",
    "\n",
    "    # Get heights of left and right ventricles, check if right ventricle appears unreasonably large (i.e. probably including atrium accidentally!)\n",
    "    left_heights = get_heights(left_segment_mask)\n",
    "    right_heights = get_heights(right_only_mask)\n",
    "    frames_with_too_large_RV_mask = right_heights > 0.8 * left_heights\n",
    "\n",
    "    # Put colour channels at end to make it easier to assign pixel colours\n",
    "    echonet_video = echonet_video.transpose((1, 2, 3, 0)) # I.e. now (frames, height, width, colours)\n",
    "    echonet_video[left_segment_mask] = RED\n",
    "    echonet_video[right_only_mask] = BLUE\n",
    "    echonet_video[mistaken_left_mask] = GREEN\n",
    "        \n",
    "    border_thickness = 2\n",
    "    echonet_video[frames_with_too_large_RV_mask, 0:border_thickness, :] = ORANGE\n",
    "    echonet_video[frames_with_too_large_RV_mask, -border_thickness:, :] = ORANGE\n",
    "    echonet_video[frames_with_too_large_RV_mask, :, 0:border_thickness] = ORANGE\n",
    "    echonet_video[frames_with_too_large_RV_mask, :, -border_thickness:] = ORANGE\n",
    "\n",
    "    # Transpose video back to original shape now and save\n",
    "    echonet_video = echonet_video.transpose((3, 0, 1, 2)) # now (colours, frames, height, width) as before\n",
    "    output_fp = OUTPUT_DIR / video_stem.with_suffix(\".avi\")\n",
    "\n",
    "    echonet.utils.savevideo(str(output_fp), echonet_video, 30)"
   ]
  },
  {
   "attachments": {},
   "cell_type": "markdown",
   "metadata": {},
   "source": [
    "# Filtering out garbage data\n",
    "Here, we'll be trying to discard any videos that are not A4C views."
   ]
  },
  {
   "cell_type": "code",
   "execution_count": 19,
   "metadata": {},
   "outputs": [],
   "source": [
    "VIDEONAME = \"0X1A8D85542DBE8204\"\n",
    "\n",
    "LEFT_SEGMENTATION_MASK_FP = Path(f\"/home/lex/Development/ultrasound/output/segmentation/all-patients/segmentation_masks/{VIDEONAME}.npy\")\n",
    "RIGHT_SEGMENTATION_MASK_FP = Path(f\"/home/lex/Development/ultrasound/output/segmentation/flipped/segmentation_masks/{VIDEONAME}.npy\")\n",
    "ECHONET_VIDEO_FP = Path(f\"/home/lex/data/echonet-data/Videos/{VIDEONAME}.avi\")\n",
    "\n",
    "left_segmentation_mask = np.load(LEFT_SEGMENTATION_MASK_FP)\n",
    "right_segmentation_mask = np.load(RIGHT_SEGMENTATION_MASK_FP)\n",
    "intersection_mask = left_segmentation_mask & right_segmentation_mask\n",
    "# Subtract those mistaken left ventricle parts from the right segmentation\n",
    "right_only_mask = right_segmentation_mask ^ intersection_mask\n",
    "\n",
    "\n",
    "echonet_video = echonet.utils.loadvideo(str(ECHONET_VIDEO_FP))\n",
    "\n",
    "num_frames, height, width = right_segmentation_mask.shape\n",
    "\n",
    "WINDOW = \"Mask\"\n",
    "# cv2.namedWindow(WINDOW, cv2.WINDOW_NORMAL)\n",
    "\n",
    "i = 0\n",
    "is_playing = True\n",
    "was_seeking = False\n",
    "# while True:\n",
    "#     if i >= num_frames:\n",
    "#         i = 0\n",
    "#         print(\"Video looped!\")\n",
    "#     elif i < 0:\n",
    "#         i = num_frames - 1\n",
    "\n",
    "#     right_mask = right_segmentation_mask[i].copy()\n",
    "#     left_mask = left_segmentation_mask[i].copy()\n",
    "#     and_mask = intersection_mask[i].copy()\n",
    "\n",
    "#     mistaken_left_mask = left_mask & right_mask\n",
    "#     # Subtract those mistaken left ventricle parts from the right segmentation\n",
    "#     right_only_mask = right_mask ^ (mistaken_left_mask)\n",
    "\n",
    "#     right_area = right_mask.sum()\n",
    "#     left_area = left_mask.sum()\n",
    "#     and_area = and_mask.sum()\n",
    "    \n",
    "#     print(f\"and/left={and_area/left_area*100:.2f};    and/right={}\")\n",
    "#     # print(f\"right: {right_mask.sum()}; left: {left_mask.sum()}; intersection: {and_mask.sum()}\")\n",
    "\n",
    "\n",
    "\n",
    "\n",
    "\n",
    "#     # right_mask = right_mask.astype(np.uint8) * 255\n",
    "    \n",
    "#     # contours, hierarchy = cv2.findContours(right_mask, cv2.RETR_TREE, cv2.CHAIN_APPROX_SIMPLE)\n",
    "#     # areas = [cv2.contourArea(contour) for contour in contours]\n",
    "    \n",
    "#     # max_area = max(areas)\n",
    "#     # max_index = areas.index(max_area)\n",
    "#     # max_contour = contours[max_index]\n",
    "\n",
    "#     # right_mask = cv2.cvtColor(right_mask, cv2.COLOR_GRAY2RGB)\n",
    "#     # cv2.drawContours(right_mask, [max_contour], -1, (0,255,0), 1)\n",
    "\n",
    "#     # height, width, channels = right_mask.shape\n",
    "#     # top_border = np.zeros((height // 8, width, channels), dtype=right_mask.dtype)\n",
    "#     # top_border[:, :] = np.expand_dims(LIGHT_GREY, (0, 1))\n",
    "#     # cv2.putText(top_border, f\"Frame {i+1}/{num_frames}\", org=(5,10), fontFace=cv2.FONT_HERSHEY_SIMPLEX, fontScale=0.25, color=(255, 0, 0))\n",
    "#     # right_mask = np.concatenate([top_border, right_mask], axis=0)\n",
    "#     # cv2.imshow(\"Mask\", right_mask)\n",
    "\n",
    "#     keypress = cv2.waitKey(50) & 0xFF\n",
    "#     if keypress == ord('q'):\n",
    "#         break\n",
    "#     elif keypress == ord(' '):\n",
    "#         is_playing = not is_playing\n",
    "#     elif keypress == ord('a'):\n",
    "#         i -= 1\n",
    "#     elif keypress == ord('d'):\n",
    "#         i += 1\n",
    "#     else:\n",
    "#         if is_playing:\n",
    "#             i += 1\n",
    "\n",
    "# cv2.destroyAllWindows()"
   ]
  },
  {
   "cell_type": "code",
   "execution_count": null,
   "metadata": {},
   "outputs": [],
   "source": [
    "left_segmentation_mask.shape"
   ]
  },
  {
   "cell_type": "code",
   "execution_count": null,
   "metadata": {},
   "outputs": [],
   "source": [
    "echonet_video.shape"
   ]
  },
  {
   "cell_type": "code",
   "execution_count": 20,
   "metadata": {},
   "outputs": [
    {
     "data": {
      "text/plain": [
       "1.278674057527371"
      ]
     },
     "execution_count": 20,
     "metadata": {},
     "output_type": "execute_result"
    }
   ],
   "source": [
    "right_only_mask.sum(axis=(1, 2, 0)) / intersection_mask.sum(axis=(1, 2, 0))"
   ]
  },
  {
   "cell_type": "code",
   "execution_count": null,
   "metadata": {},
   "outputs": [],
   "source": []
  }
 ],
 "metadata": {
  "kernelspec": {
   "display_name": "ultrasound",
   "language": "python",
   "name": "python3"
  },
  "language_info": {
   "codemirror_mode": {
    "name": "ipython",
    "version": 3
   },
   "file_extension": ".py",
   "mimetype": "text/x-python",
   "name": "python",
   "nbconvert_exporter": "python",
   "pygments_lexer": "ipython3",
   "version": "3.8.15"
  },
  "orig_nbformat": 4,
  "vscode": {
   "interpreter": {
    "hash": "8f172eeab591fffc7206196735bfc2e29f166a162a3789422c4782f1097623d9"
   }
  }
 },
 "nbformat": 4,
 "nbformat_minor": 2
}
