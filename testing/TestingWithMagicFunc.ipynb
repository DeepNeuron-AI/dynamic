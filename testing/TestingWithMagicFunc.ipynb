{
 "cells": [
  {
   "cell_type": "code",
   "execution_count": 1,
   "metadata": {},
   "outputs": [
    {
     "name": "stderr",
     "output_type": "stream",
     "text": [
      "usage: ipykernel_launcher.py [-h] phrase nbaplayer\n",
      "ipykernel_launcher.py: error: the following arguments are required: phrase, nbaplayer\n"
     ]
    },
    {
     "ename": "SystemExit",
     "evalue": "2",
     "output_type": "error",
     "traceback": [
      "An exception has occurred, use %tb to see the full traceback.\n",
      "\u001b[1;31mSystemExit\u001b[0m\u001b[1;31m:\u001b[0m 2\n"
     ]
    },
    {
     "name": "stderr",
     "output_type": "stream",
     "text": [
      "c:\\Users\\Allis\\miniconda3_py38\\envs\\pipinstallenvironment\\lib\\site-packages\\IPython\\core\\interactiveshell.py:3468: UserWarning: To exit: use 'exit', 'quit', or Ctrl-D.\n",
      "  warn(\"To exit: use 'exit', 'quit', or Ctrl-D.\", stacklevel=1)\n"
     ]
    }
   ],
   "source": [
    "# %load testingArgParser.py\n",
    "'''\n",
    "To run this, cd into Dynamic and input the following into the command line:\n",
    "python testingArgParser.py \"hello\" \"LebronJames\"\n",
    "\n",
    "Your output:\n",
    "The phrase you entered is: hello\n",
    "I love: LebronJames\n",
    "\n",
    "\n",
    "\n",
    "'''\n",
    "\n",
    "from argparse import ArgumentParser\n",
    "\n",
    "\n",
    "def printphrase(phrase, nbaplayer):\n",
    "    print(f\"The phrase you entered is: {phrase}\")\n",
    "    print(f\"I love: {nbaplayer}\")\n",
    "\n",
    "\n",
    "parser = ArgumentParser()\n",
    "parser.add_argument('phrase', type=str, help='The phrase to print')\n",
    "parser.add_argument('nbaplayer', type=str, help='nba player')\n",
    "\n",
    "\n",
    "if __name__ == '__main__':\n",
    "    #This is standard set up of the CLI \n",
    "    args = parser.parse_args()\n",
    "    # printphrase(args.phrase, args.nbaplayer) \n",
    "\n",
    "    #if you want you can store arguments in a dictionary like so \n",
    "    args_dict = dict(args._get_kwargs())\n",
    "    # print(args_dict)\n",
    "    #if you call the same 'python testingArgParser.py \"hello\" \"LebronJames\"' it will print the same expected output but this time using a dictionary. This is useful for many arguments. \n",
    "    printphrase(**args_dict)\n",
    "\n"
   ]
  },
  {
   "cell_type": "code",
   "execution_count": null,
   "metadata": {},
   "outputs": [],
   "source": [
    "'''\n",
    "Test how the '--save video' argument works in: python -m echonet.utils.segmentation.py --save-video \n",
    "Note this is from the updated readMe steps: https://github.com/DeepNeuron-AI/dynamic/tree/update-README\n",
    "\n",
    "This is the --save-video argparser extra argument that allows you to actually save the videos which segmentation is applied to. \n",
    "The argparser argument looks like this: \n",
    "save_video_group.add_argument(\"--save-video\", action=\"store_true\", default=False)\n",
    "\n",
    "Note that this argparser calls run(**args_dict) in which args_dict contains the --save-video argument. \n",
    "\n",
    "The run function has save_video as a parameter like so: \n",
    "\n",
    "    def run(save_video=False) \n",
    "'''\n",
    "\n",
    "#This is a method that defines mutually exclusive arguments which cannot be used together in the same command line call \n",
    "save_video_group = parser.add_mutually_exclusive_group()\n",
    "\n",
    "#save_video_group in 'save_video_group.add_argument(\"--save-video\", action=\"store_true\", default=False)' is simply the group containing the command with the mutually exclusive groups \n",
    "#in the case of segmentation.py it has \n",
    "save_video_group.add_argument(\"--save-video\", action=\"store_true\", default=False)\n",
    "save_video_group.add_argument(\"--skip-video\", action=\"store_false\", dest=\"save_video\")\n",
    "\n",
    "# action = \"store_true\" in 'save_video_group.add_argument(\"--save-video\", action=\"store_true\", default=False)' is a parameter that acts a boolean flag which will be set to true if that word is called. \n",
    "#I will add to the testing argParser.py and paste the code below: "
   ]
  },
  {
   "cell_type": "code",
   "execution_count": 5,
   "metadata": {},
   "outputs": [],
   "source": [
    "# %load testingArgParser.py\n",
    "'''\n",
    "This is with updated --save-video functionality \n",
    "\n",
    "'''\n",
    "\n",
    "from argparse import ArgumentParser\n",
    "\n",
    "\n",
    "def printphrase(phrase, nbaplayer, save_video):\n",
    "    print(f\"The phrase you entered is: {phrase}\")\n",
    "    print(f\"I love: {nbaplayer}\")\n",
    "\n",
    "    if save_video == True: \n",
    "        print (\"save_video is a parameter\")\n",
    "    else:\n",
    "        print(\"ERROR: SAVE_VIDEO ISN'T A PARAMETER\")\n",
    "\n",
    "\n",
    "parser = ArgumentParser()\n",
    "parser.add_argument('phrase', type=str, help='The phrase to print')\n",
    "parser.add_argument('nbaplayer', type=str, help='nba player')\n",
    "\n",
    "save_video_group = parser.add_mutually_exclusive_group()\n",
    "save_video_group.add_argument(\"--save-video\", action=\"store_true\", default=False)\n",
    "\n",
    "\n",
    "\n",
    "if __name__ == '__main__':\n",
    "    #This is standard set up of the CLI \n",
    "    args = parser.parse_args() #don't ever uncomment this \n",
    "    # printphrase(args.phrase, args.nbaplayer) \n",
    "\n",
    "    #if you want you can store arguments in a dictionary like so \n",
    "    args_dict = dict(args._get_kwargs()) #don't ever uncomment this\n",
    "\n",
    "    #view the dictionary like so \n",
    "    # print(args_dict)\n",
    "    #if you call the same 'python testingArgParser.py \"hello\" \"LebronJames\"' it will print the same expected output but this time using a dictionary. This is useful for many arguments. \n",
    "    # printphrase(**args_dict)\n",
    "\n",
    "    #For testing of the save_video_group \n",
    "    # print(args_dict) #should return you {'phrase': 'hello', 'nbaplayer': 'LebronJames', 'save_video': False} when you input 'python testing/testingArgParser.py \"hello\" \"LebronJames\"' (note I changed directory structure)\n",
    "    #print(args_dict) # will make save_video: True in the above dict if input is: python testing/testingArgParser.py \"hello\" \"LebronJames\" --save-video\n",
    "\n",
    "    #I have modified printphrase to also take --save-video as an argument, but note that argparser seems to automatically convert '--save-video' into a parameter \"save_video\"\n",
    "    printphrase(**args_dict) #An input with the --save-video will give you an error"
   ]
  },
  {
   "cell_type": "code",
   "execution_count": 6,
   "metadata": {},
   "outputs": [],
   "source": [
    "# %load testingArgParser.py\n",
    "'''\n",
    "To run this, cd into Dynamic and input the following into the command line:\n",
    "python testing/testingArgParser.py \"hello\" \"LebronJames\"\n",
    "\n",
    "Your output:\n",
    "The phrase you entered is: hello\n",
    "I love: LebronJames\n",
    "\n",
    "'''\n",
    "\n",
    "from argparse import ArgumentParser\n",
    "\n",
    "\n",
    "def printphrase(phrase, nbaplayer, save_video, num_epochs):\n",
    "    print(f\"The phrase you entered is: {phrase}\")\n",
    "    print(f\"I love: {nbaplayer}\")\n",
    "\n",
    "    if save_video == True: \n",
    "        print (\"save_video is a parameter\")\n",
    "    else:\n",
    "        print(\"ERROR: SAVE_VIDEO ISN'T A PARAMETER\")\n",
    "\n",
    "    print(f\" The num_epochs = {num_epochs}\")\n",
    "\n",
    "\n",
    "parser = ArgumentParser()\n",
    "parser.add_argument('phrase', type=str, help='The phrase to print')\n",
    "parser.add_argument('nbaplayer', type=str, help='nba player')\n",
    "\n",
    "#--save-video argument \n",
    "save_video_group = parser.add_mutually_exclusive_group()\n",
    "save_video_group.add_argument(\"--save-video\", action=\"store_true\", default=False)\n",
    "\n",
    "#num epochs argument\n",
    "parser.add_argument(\"--num-epochs\", type=int, default=50)\n",
    "\n",
    "if __name__ == '__main__':\n",
    "    #This is standard set up of the CLI \n",
    "    args = parser.parse_args() #don't ever uncomment this \n",
    "    # printphrase(args.phrase, args.nbaplayer) \n",
    "\n",
    "    #if you want you can store arguments in a dictionary like so \n",
    "    args_dict = dict(args._get_kwargs()) #don't ever uncomment this\n",
    "\n",
    "    #view the dictionary like so \n",
    "    # print(args_dict)\n",
    "    #if you call the same 'python testingArgParser.py \"hello\" \"LebronJames\"' it will print the same expected output but this time using a dictionary. This is useful for many arguments. \n",
    "    # printphrase(**args_dict)\n",
    "\n",
    "    #For testing of the save_video_group \n",
    "    # print(args_dict) #should return you {'phrase': 'hello', 'nbaplayer': 'LebronJames', 'save_video': False} when you input 'python testing/testingArgParser.py \"hello\" \"LebronJames\"' (note I changed directory structure)\n",
    "    #print(args_dict) # will make save_video: True in the above dict if input is: python testing/testingArgParser.py \"hello\" \"LebronJames\" --save-video\n",
    "\n",
    "    #I have modified printphrase to also take --save-video as an argument, but note that argparser seems to automatically convert '--save-video' into a parameter \"save_video\"\n",
    "    #printphrase(**args_dict) #An input with the --save-video will give you an error\n",
    "\n",
    "    #checking --num-epochs\n",
    "    #input: python testing/testingArgParser.py \"hello\" \"LebronJames\" --save-video --num-epochs=5\n",
    "    print(args_dict)\n",
    "    printphrase(**args_dict) \n",
    "    "
   ]
  },
  {
   "cell_type": "code",
   "execution_count": 1,
   "metadata": {},
   "outputs": [],
   "source": [
    "# %load testingArgParser.py\n",
    "#you also have to change the input to this: python -m testing.testingArgParser \"hello\" \"LebronJames\" --save-video --num-epochs=5 \n",
    "from argparse import ArgumentParser\n",
    "\n",
    "\n",
    "def printphrase(phrase, nbaplayer, save_video, num_epochs):\n",
    "    print(f\"The phrase you entered is: {phrase}\")\n",
    "    print(f\"I love: {nbaplayer}\")\n",
    "\n",
    "    if save_video == True: \n",
    "        print (\"save_video is a parameter\")\n",
    "    else:\n",
    "        print(\"ERROR: SAVE_VIDEO ISN'T A PARAMETER\")\n",
    "\n",
    "    print(f\" The num_epochs = {num_epochs}\")\n",
    "\n",
    "\n",
    "\n",
    "\n",
    "if __name__ == '__main__':\n",
    "\n",
    "    #testing input python -m testing/testingArgParser.py \"hello\" \"LebronJames\" --save-video --num-epochs=5\n",
    "    #your bug was that you needed to move the arguments into the if==name part of the file\n",
    "    parser = ArgumentParser()\n",
    "    parser.add_argument('phrase', type=str, help='The phrase to print')\n",
    "    parser.add_argument('nbaplayer', type=str, help='nba player')\n",
    "\n",
    "    #--save-video argument \n",
    "    save_video_group = parser.add_mutually_exclusive_group()\n",
    "    save_video_group.add_argument(\"--save-video\", action=\"store_true\", default=False)\n",
    "\n",
    "    #num epochs argument\n",
    "    parser.add_argument(\"--num-epochs\", type=int, default=50)\n",
    "    \n",
    "    args = parser.parse_args() \n",
    "    args_dict = dict(args._get_kwargs()) \n",
    "\n",
    "    print(args_dict)\n",
    "    printphrase(**args_dict)  "
   ]
  },
  {
   "cell_type": "code",
   "execution_count": 2,
   "metadata": {},
   "outputs": [
    {
     "name": "stdout",
     "output_type": "stream",
     "text": [
      "hi\n"
     ]
    }
   ],
   "source": [
    "''' \n",
    "Where will the output of the files be?!\n",
    "\n",
    "Look at the argument for output directory as per the run() function: \n",
    "\n",
    "    data_dir (str, optional): Directory containing dataset. Defaults to\n",
    "        `echonet.config.DATA_DIR`.\n",
    "    output (str, optional): Directory to place outputs. Defaults to\n",
    "        output/segmentation/<model_name>_<pretrained/random>/.\n",
    "\n",
    "For the data_dir, there's actually no echonet.config file, it's called example.cfg. \n",
    "\n",
    "To make this happen, i'll have to cd out one, as I have the datasets in a separate folder. \n",
    "\n",
    "Then change example.cfg to: a4c-videos\\a4c-video-dir\n",
    "\n",
    "then cd to ultrasound2023\n",
    "\n",
    "I'm going to try to run the following command for segmentation: python -m echonet.utils.segmentation --save-video --num-epochs=1\n",
    "\n",
    "if that doesn't work then; python -m echonet.utils.segmentation.py --save-video --num-epochs=1\n",
    "\n",
    "you are currently having environment issues; note that our conda env is located in anaconda3_8 not anaconda3\n",
    "\n",
    "\n",
    "'''\n"
   ]
  },
  {
   "cell_type": "code",
   "execution_count": 8,
   "metadata": {},
   "outputs": [
    {
     "name": "stderr",
     "output_type": "stream",
     "text": [
      "580it [00:07, 76.17it/s, Hello]  ?it/s]\n",
      "600it [00:03, 184.31it/s, Hello]                         "
     ]
    },
    {
     "name": "stderr",
     "output_type": "stream",
     "text": [
      "600it [00:13, 184.31it/s, Hello]"
     ]
    }
   ],
   "source": [
    "''' \n",
    "Understanding the tqdm progress bar: \n",
    "\n",
    "pbar.set_postfix_str()\n",
    "\n",
    "\n",
    "\n",
    "'''\n",
    "from tqdm import tqdm\n",
    "from time import sleep\n",
    "\n",
    "pbar = tqdm(total=200, ascii=True)\n",
    "for i in range(30):\n",
    "    pbar.set_postfix_str('Hello')\n",
    "    sleep(0.1)\n",
    "    pbar.update(20)"
   ]
  },
  {
   "cell_type": "code",
   "execution_count": 13,
   "metadata": {},
   "outputs": [
    {
     "name": "stderr",
     "output_type": "stream",
     "text": [
      "100%|██████████| 10/10 [00:50<00:00,  5.01s/it]\n"
     ]
    }
   ],
   "source": [
    "'''\n",
    "Understanding this line: with tqdm.tqdm(total=len(dataloader)) as pbar:\n",
    "\n",
    "What does with and as do in python again?\n",
    "    - A context manager sets up the context at the beggining of a block of code and cleans up that block at the end as well.\n",
    "    - To set up context at the beggining of a block of code is to create an environment in which the code will execute. This includes things like opening a file, or setting up a database connection. \n",
    "    - The context manager (with) sets up the environment and returns this as an object in that environment. \n",
    "    - the 'with' statement sets up the environments and stores it in a variable using the 'as' statement. \n",
    "    - 'with open('file.txt', 'r') as file:' is an example of this. \n",
    "\n",
    "What is tqdm.tqdm(total=len(dataloader)) and And what is pbar? \n",
    "    - tqdm.tqdm() creates a progress bar object and sets the environment with the data loader, and stores this in the pbar variable. \n",
    "\n",
    "How do the for loops function in tqdm? \n",
    "\n",
    "what is pbar.set_postfix_str()\n",
    "\n",
    "what does pbar.update() do? \n",
    "\n",
    "'''\n",
    "import tqdm \n",
    "import time\n",
    "\n",
    "for i in tqdm.tqdm(range(10)):\n",
    "    time.sleep(5)\n",
    "\n",
    "#This is the output of the pbar: 2/10 [00:10<00:40,  5.01s/it]\n",
    "# The 0:10 shows the amount of time that has elapsed and 0:40 is the estiamted remaining time \n",
    "# The 5.01s/it shows that it takes 5.01 seconds per iteration, which changes depending on what I put in the .sleep() value"
   ]
  },
  {
   "cell_type": "code",
   "execution_count": 14,
   "metadata": {},
   "outputs": [
    {
     "name": "stderr",
     "output_type": "stream",
     "text": [
      "100%|██████████| 10/10 [00:10<00:00,  1.01s/it, Time elapsed: 10s]\n"
     ]
    }
   ],
   "source": [
    "from tqdm import tqdm\n",
    "import time\n",
    "\n",
    "with tqdm(total=10) as pbar:\n",
    "    for i in range(10):\n",
    "        time.sleep(1)\n",
    "        pbar.set_postfix_str(f\"Time elapsed: {i+1}s\")\n",
    "        pbar.update()"
   ]
  },
  {
   "cell_type": "code",
   "execution_count": null,
   "metadata": {},
   "outputs": [],
   "source": [
    "''' \n",
    "How can I check gpu utilization? \n",
    "\n",
    "You can use: nvidia-smi -l 1 \n",
    "\n",
    "Understanding the nvidia-smi output \n",
    "\n",
    "How can I confirm that this is not running on my current training loop? \n",
    "'''\n"
   ]
  }
 ],
 "metadata": {
  "kernelspec": {
   "display_name": "Python 3",
   "language": "python",
   "name": "python3"
  },
  "language_info": {
   "codemirror_mode": {
    "name": "ipython",
    "version": 3
   },
   "file_extension": ".py",
   "mimetype": "text/x-python",
   "name": "python",
   "nbconvert_exporter": "python",
   "pygments_lexer": "ipython3",
   "version": "3.8.16"
  },
  "orig_nbformat": 4
 },
 "nbformat": 4,
 "nbformat_minor": 2
}
