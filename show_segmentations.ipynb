{
 "cells": [
  {
   "attachments": {},
   "cell_type": "markdown",
   "metadata": {},
   "source": [
    "# What is this notebook for?\n",
    "This notebook is intended only for visualinsing the left and or right ventricle segmentations for a particular echonet video.\n",
    "\n",
    "If you want to add other interesting things to the visualisation (such as estimated septum width, etc.), you should use the [other notebook](./weak_labels.ipynb) instead."
   ]
  },
  {
   "cell_type": "code",
   "execution_count": 1,
   "metadata": {},
   "outputs": [],
   "source": [
    "from pathlib import Path\n",
    "import sys\n",
    "import math\n",
    "from typing import List, Tuple\n",
    "\n",
    "import cv2\n",
    "import numpy as np\n",
    "from tqdm import tqdm\n",
    "import matplotlib.pyplot as plt\n",
    "from dotenv import dotenv_values\n",
    "import scipy\n",
    "\n",
    "import echonet\n",
    "from weak_labels.utils import get_average_eccentricity, get_min_area_rect, get_min_area_box, mask_to_image, image_to_mask, find_corner, get_angle, BOTTOM_LEFT, BOTTOM_RIGHT, remove_septum\n",
    "\n",
    "config = dotenv_values(\".env\")\n",
    "\n",
    "# Can assign these colours to numpy arrays so long as the colours are stored in\n",
    "# the last axis of the target array (e.g. image.shape =(112, 112, 3), but not\n",
    "# image.shape = (3, 112, 112)). \n",
    "# Just do image[y_vals, x_vals] = MAGENTA\n",
    "# IMPORTANT: if using within an *opencv* function, you'll want to do \n",
    "# COLOUR.tolist() to convert these to python primitives, else opencv complains about\n",
    "# datatypes\n",
    "# Note also that these are BGR, not RGB, since that's what opencv prefers BGR for historical reasons!\n",
    "RED = np.array([0, 0, 255])\n",
    "GREEN = np.array([0, 255, 0])\n",
    "BLUE = np.array([255, 0, 0])\n",
    "ORANGE = np.array([0, 165, 255])\n",
    "LIGHT_GREY = np.array([211, 211, 211])\n",
    "MAGENTA = np.array([255, 0, 255])\n",
    "YELLOW = np.array([0, 255, 255])\n",
    "WHITE = np.array([255, 255, 255])\n",
    "BLACK = np.array([0, 0, 0])\n",
    "\n",
    "# Just some types for us to use in type hints to make dev easier\n",
    "Point = List[np.intp]\n",
    "Box = Tuple[Point, Point, Point, Point]\n",
    "Rectangle = Tuple[Point, Tuple[float, float], float] # [centre, (width, height), angle]"
   ]
  },
  {
   "cell_type": "code",
   "execution_count": 2,
   "metadata": {},
   "outputs": [],
   "source": [
    "def get_heights(masks: np.ndarray) -> np.ndarray:\n",
    "    images = mask_to_image(masks)\n",
    "    heights = np.zeros(len(images))\n",
    "    for i, image in enumerate(images):\n",
    "        ((centre_x, centre_y), (width, height), angle) = get_min_area_rect(image)\n",
    "        height = max(width, height)\n",
    "        heights[i] = height\n",
    "\n",
    "    return heights\n",
    "\n",
    "def get_angles(masks: np.ndarray) -> np.ndarray:\n",
    "    images = mask_to_image(masks)\n",
    "    rects = [get_min_area_rect(image) for image in images]\n",
    "    angles = np.array([get_angle(rect) for rect in rects])\n",
    "    return angles\n",
    "\n",
    "\n",
    "def rotate_image(image: np.ndarray, angle: float) -> np.ndarray:\n",
    "    rect = get_min_area_rect(image)\n",
    "    bottom_left = find_corner(rect, which=BOTTOM_LEFT)\n",
    "    bottom_left = (int(bottom_left[0]), int(bottom_left[1]))\n",
    "\n",
    "    rot_mat = cv2.getRotationMatrix2D(bottom_left, angle, 1.0)\n",
    "    result = cv2.warpAffine(image, rot_mat, image.shape[1::-1], flags=cv2.INTER_LINEAR)\n",
    "    return result\n",
    "\n",
    "def get_diastoles_systoles(LV_masks):\n",
    "    LV_areas = LV_masks.sum(axis=(1,2))\n",
    "    min_area, max_area = LV_areas.min(), LV_areas.max()\n",
    "    trim_min = sorted(LV_areas)[round(len(LV_areas) ** 0.05)]\n",
    "    trim_max = sorted(LV_areas)[round(len(LV_areas) ** 0.95)]\n",
    "    trim_range = trim_max - trim_min\n",
    "    diastoles = scipy.signal.find_peaks(LV_areas, distance=20, prominence=(0.50 * trim_range))[0]\n",
    "    systoles = scipy.signal.find_peaks(-LV_areas, distance=20, prominence=(0.50 * trim_range))[0]\n",
    "\n",
    "    return diastoles, systoles\n",
    "\n",
    "def crop_box(image: np.ndarray, box: np.array) -> np.ndarray:\n",
    "    \"\"\"\n",
    "    (num_points, x, y)\n",
    "    [\n",
    "        [ 64 464]\n",
    "        [ 64  64]\n",
    "        [464  64]\n",
    "        [464 464]\n",
    "    ]\n",
    "    \"\"\"\n",
    "    min_x = min(p[0] for p in box)\n",
    "    max_x = max(p[0] for p in box)\n",
    "    min_y = min(p[1] for p in box)\n",
    "    max_y = max(p[1] for p in box)\n",
    "    return image[min_y:max_y, min_x:max_x]"
   ]
  },
  {
   "cell_type": "code",
   "execution_count": 4,
   "metadata": {},
   "outputs": [
    {
     "name": "stdout",
     "output_type": "stream",
     "text": [
      "RV/LV = 0.634304\n",
      "Stretching RV heights by 1.261225386945107\n"
     ]
    }
   ],
   "source": [
    "WRITE = False\n",
    "\n",
    "config = dotenv_values(\".env\")\n",
    "\n",
    "echonet_video_fp = (Path\n",
    "(config[\"ECHONET_VIDEO_DIR\"]) / config[\"VIDEONAME\"]).with_suffix(\".avi\")\n",
    "echonet_video = echonet.utils.loadvideo(str(echonet_video_fp))\n",
    "echonet_video = echonet_video.transpose((1, 2, 3, 0)) # Put colour axis at end for easier colouring of pixels\n",
    "\n",
    "LV_masks = np.load(config[\"LV_MASKS\"])\n",
    "RV_masks = np.load(config[\"RV_MASKS\"])\n",
    "\n",
    "num_frames, frame_height, frame_width = LV_masks.shape\n",
    "out_height = (frame_height + frame_height // 8) * 4\n",
    "out_width = frame_width * 4\n",
    "out_size = (out_width, out_height)\n",
    "if WRITE:\n",
    "    print(f\"Size: ({frame_width}, {frame_height}) -> ({out_size})\")\n",
    "\n",
    "WINDOW = f\"Segmentation: {config['VIDEONAME']}.avi\"\n",
    "WINDOW2 = f\"Segmentation (stretched): {config['VIDEONAME']}.avi\"\n",
    "WINDOW3 = f\"Segmentation (rotated): {config['VIDEONAME']}.avi\"\n",
    "WINDOW4 = f\"Input, but denoised?: {config['VIDEONAME']}.avi\"\n",
    "cv2.namedWindow(WINDOW, cv2.WINDOW_NORMAL)\n",
    "cv2.namedWindow(WINDOW2, cv2.WINDOW_NORMAL)\n",
    "cv2.namedWindow(WINDOW3, cv2.WINDOW_NORMAL)\n",
    "cv2.namedWindow(WINDOW4, cv2.WINDOW_NORMAL)\n",
    "\n",
    "\n",
    "thresh = 10\n",
    "kernel_size = 3\n",
    "thresh2 = 10\n",
    "def on_trackbar_thresh(val):\n",
    "    global thresh\n",
    "    thresh = val\n",
    "\n",
    "def on_trackbar_thresh2(val):\n",
    "    global thresh2\n",
    "    thresh2 = val\n",
    "\n",
    "def on_trackbar_kernel_size(val):\n",
    "    global kernel_size\n",
    "    kernel_size = val * 2 + 1\n",
    "    \n",
    "cv2.createTrackbar(\"Thresh\", WINDOW4, thresh, 255, on_trackbar_thresh)\n",
    "cv2.createTrackbar(\"1/2 Kernel size\", WINDOW4, kernel_size, 20, on_trackbar_kernel_size)\n",
    "cv2.createTrackbar(\"Post-Thresh\", WINDOW4, thresh2, 255, on_trackbar_thresh2)\n",
    "\n",
    "i = 0\n",
    "is_playing = True\n",
    "\n",
    "if WRITE:\n",
    "    writer = cv2.VideoWriter(\"output.avi\", cv2.VideoWriter_fourcc(*'MJPG'), 30, out_size)\n",
    "\n",
    "diastoles, systoles = get_diastoles_systoles(LV_masks)\n",
    "RV_heights = get_heights(RV_masks)\n",
    "LV_heights = get_heights(LV_masks)\n",
    "# RV_LV_height_ratio = RV_heights[diastoles[0]] / LV_heights[diastoles[0]]\n",
    "RV_LV_height_ratio = (RV_heights / LV_heights).mean()\n",
    "print(f\"RV/LV = {RV_LV_height_ratio:.6f}\")\n",
    "if RV_LV_height_ratio < 0.8:\n",
    "    RV_stretch_factor = 0.8 / RV_LV_height_ratio\n",
    "    print(f\"Stretching RV heights by {RV_stretch_factor}\")\n",
    "else:\n",
    "    print(\"RV height seems reasonable?\")\n",
    "    RV_stretch_factor = 1\n",
    "\n",
    "RV_angles = get_angles(RV_masks)\n",
    "RV_angle = np.mean(RV_angles)\n",
    "\n",
    "try:\n",
    "    while True:\n",
    "        if i >= num_frames:\n",
    "            i = 0\n",
    "            if WRITE:\n",
    "                break\n",
    "        elif i < 0:\n",
    "            i = num_frames - 1\n",
    "\n",
    "        # Copy data for this particular frame\n",
    "        frame = echonet_video[i].copy()\n",
    "        LV_mask = LV_masks[i].copy()\n",
    "        RV_mask = RV_masks[i].copy()\n",
    "\n",
    "        # RV_LV_height_ratio = RV_heights[i] / LV_heights[i]\n",
    "        # if RV_LV_height_ratio \n",
    "        # RV_stretch_factor = 0.8 / RV_LV_height_ratio\n",
    "\n",
    "        RV_image = mask_to_image(RV_mask)\n",
    "        # angle = get_angle(get_min_area_rect(RV_image))\n",
    "        # RV_image = scipy.ndimage.rotate(RV_image, -RV_angle)\n",
    "        RV_image = cv2.resize(RV_image, (frame_width, frame_height)) # Think this actually *shrinks* the RV segmentation, need to account for this!\n",
    "        RV_image[RV_image>0] = 255\n",
    "\n",
    "        # RV_image = rotate_image(RV_image, -angle)\n",
    "        RV_box = get_min_area_box(RV_image)\n",
    "        RV_cropped = crop_box(RV_image, RV_box)\n",
    "        RV_height, RV_width = RV_cropped.shape\n",
    "        old_shape = RV_cropped.shape\n",
    "        RV_cropped = cv2.resize(RV_cropped, (RV_width, int(RV_height * RV_stretch_factor)))\n",
    "        # RV_cropped = rotate_image(RV_cropped, angle=angle)\n",
    "        # RV_cropped = scipy.ndimage.rotate(RV_cropped, angle=RV_angle, reshape=False)\n",
    "        # RV_cropped = cv2.resize(RV_cropped, (frame_width, frame_height))\n",
    "\n",
    "        # print(f\"Shapes: {old_shape} -> {RV_cropped.shape}\")\n",
    "\n",
    "        min_x = min(p[0] for p in RV_box)\n",
    "        max_x = max(p[0] for p in RV_box)\n",
    "        min_y = min(p[1] for p in RV_box)\n",
    "        max_y = max(p[1] for p in RV_box)\n",
    "\n",
    "        # x1, y1 = find_corner(RV_rect, BOTTOM_LEFT)\n",
    "        # x2, y2 = find_corner(RV_rect, BOTTOM_RIGHT)\n",
    "        # print(f\"Points: ({min_x}, {max_x})  ({min_y}, {max_y})\")\n",
    "        pad_left = min_x\n",
    "        pad_right = frame_width - max_x\n",
    "        pad_bottom = frame_height - max_y\n",
    "        pad_top = max_y - RV_cropped.shape[0]\n",
    "        # print(\"Padding: \", pad_left, pad_right, pad_bottom, pad_top)\n",
    "        RV_padded = np.pad(RV_cropped, ((pad_top, pad_bottom), (pad_left, pad_right)))\n",
    "        # RV_padded[RV_padded > 0] = 255\n",
    "        # RV_padded = cv2.medianBlur(RV_padded, 5)\n",
    "        cv2.imshow(WINDOW3, RV_padded)\n",
    "        # print(\"Final shape: \", RV_padded.shape)\n",
    "\n",
    "        RV_stretched_mask = image_to_mask(RV_padded)\n",
    "\n",
    "        ######## SEGMENTATIONS\n",
    "        frame[LV_mask] = RED\n",
    "        frame[RV_mask] = BLUE\n",
    "\n",
    "        LV_box = get_min_area_box(mask_to_image(LV_mask))\n",
    "        RV_box = get_min_area_box(mask_to_image(RV_mask))\n",
    "        cv2.drawContours(frame, [LV_box], 0, YELLOW.tolist())\n",
    "        cv2.drawContours(frame, [RV_box], 0, ORANGE.tolist())\n",
    "\n",
    "        frame2 = echonet_video[i].copy()\n",
    "        frame2[RV_stretched_mask] = BLUE\n",
    "\n",
    "        frame3 = echonet_video[i].copy()\n",
    "        frame3[frame3 < thresh] = 0\n",
    "        frame3 = cv2.medianBlur(frame3, kernel_size)\n",
    "        frame3[frame3 < thresh2] = 0\n",
    "        cv2.imshow(WINDOW4, frame3)\n",
    "\n",
    "        # images = mask_to_image(RV_masks)\n",
    "        # contours, _ = cv2.findContours(images[i], cv2.RETR_TREE, cv2.CHAIN_APPROX_SIMPLE)\n",
    "        # (centre_x, centre_y), (minor_radius, major_radius), angle = cv2.fitEllipse(contours[0])\n",
    "        # cv2.ellipse(frame, [(centre_x, centre_y), (minor_radius, major_radius), angle], GREEN.tolist())\n",
    "        # ell_ecc = np.sqrt(1 - (minor_radius/major_radius)**2)\n",
    "        \n",
    "        frame = cv2.applyColorMap(frame, cv2.COLORMAP_SPRING)\n",
    "\n",
    "        ####### ADD FRAME COUNTER AT TOP\n",
    "        top_border = np.zeros((frame_height // 8, frame_width, 3), dtype=frame.dtype)\n",
    "        top_border[:, :] = np.expand_dims(LIGHT_GREY, (0, 1))\n",
    "        cv2.putText(top_border, f\"Frame {i+1}/{num_frames}\", org=(5,10), fontFace=cv2.FONT_HERSHEY_SIMPLEX, fontScale=0.25, color=RED.tolist())\n",
    "        frame = np.concatenate([top_border, frame], axis=0)\n",
    "        # frame2 = np.concatenate([top_border, frame2], axis=0)\n",
    "\n",
    "        if i in systoles:\n",
    "            frame[-10:, :] = ORANGE\n",
    "        elif i in diastoles:\n",
    "            frame[-10:, :] = GREEN\n",
    "\n",
    "        ######## SHOW SEGMENTATION AND HANDLE KEYPRESS\n",
    "        \n",
    "\n",
    "\n",
    "        cv2.imshow(WINDOW, frame)\n",
    "        cv2.imshow(WINDOW2, frame2)\n",
    "\n",
    "        if WRITE:\n",
    "            frame = cv2.resize(frame, out_size)\n",
    "            writer.write(frame)\n",
    "\n",
    "        keypress = cv2.waitKey(25) & 0xFF\n",
    "        if keypress == ord('q'):\n",
    "            break\n",
    "        elif keypress == ord(' '):\n",
    "            is_playing = not is_playing\n",
    "        elif keypress == ord('a'):\n",
    "            i -= 1\n",
    "        elif keypress == ord('d'):\n",
    "            i += 1\n",
    "        else:\n",
    "            if is_playing:\n",
    "                i += 1\n",
    "finally:\n",
    "    cv2.destroyAllWindows() \n",
    "    if WRITE:\n",
    "        writer.release()"
   ]
  },
  {
   "cell_type": "code",
   "execution_count": 29,
   "metadata": {},
   "outputs": [
    {
     "data": {
      "text/plain": [
       "0.6815932540464239"
      ]
     },
     "execution_count": 29,
     "metadata": {},
     "output_type": "execute_result"
    }
   ],
   "source": [
    "RV_LV_height_ratio"
   ]
  },
  {
   "cell_type": "code",
   "execution_count": 6,
   "metadata": {},
   "outputs": [
    {
     "name": "stdout",
     "output_type": "stream",
     "text": [
      "From rectangle 0.8990815108628878\n",
      "From ellipse 0.9170112007036298\n"
     ]
    }
   ],
   "source": [
    "from weak_labels.utils import mask_to_image, get_average_eccentricity\n",
    "images = mask_to_image(RV_masks)\n",
    "contours, _ = cv2.findContours(images[0], cv2.RETR_TREE, cv2.CHAIN_APPROX_SIMPLE)\n",
    "(centre_x, centre_y), (minor_radius, major_radius), angle = cv2.fitEllipse(contours[0])\n",
    "ell_ecc = np.sqrt(1 - (minor_radius/major_radius)**2)\n",
    "\n",
    "print(\"From rectangle\", get_average_eccentricity(RV_masks))\n",
    "print(\"From ellipse\", ell_ecc)"
   ]
  },
  {
   "cell_type": "code",
   "execution_count": 7,
   "metadata": {},
   "outputs": [
    {
     "name": "stdout",
     "output_type": "stream",
     "text": [
      "((264.0, 264.0), (400.0, 400.0), 0)\n"
     ]
    }
   ],
   "source": [
    "# This cell is just for playing around with rotated rectangles and their corners,\n",
    "# while we figure out how on earth opencv determines the angle in its return value\n",
    "# for cv2.minAreaRect()!\n",
    "WINDOW = \"Mask\"\n",
    "cv2.namedWindow(WINDOW, cv2.WINDOW_NORMAL)\n",
    "\n",
    "frame_width = frame_height = 528\n",
    "frame = np.zeros((frame_height, frame_width), dtype=np.uint8)\n",
    "width = 400\n",
    "height = 400\n",
    "angle = 0.002\n",
    "centre_x = frame_height // 2\n",
    "centre_y = frame_width // 2\n",
    "corner1 = (centre_x - width // 2, centre_y - height // 2)\n",
    "corner2 = (centre_x + width // 2, centre_y + height // 2)\n",
    "frame = cv2.rectangle(frame, corner1, corner2, 255, -1)\n",
    "\n",
    "matrix = cv2.getRotationMatrix2D((centre_x, centre_y), angle, 1)\n",
    "frame = cv2.warpAffine(frame, matrix, (frame_height, frame_width))\n",
    "\n",
    "box = get_min_area_box(frame)\n",
    "rect = get_min_area_rect(frame)\n",
    "our_angle = get_angle(rect)\n",
    "# print(our_angle)\n",
    "print(rect)\n",
    "# print(box)\n",
    "frame = np.zeros((frame_height, frame_width), dtype=np.uint8)\n",
    "cv2.drawContours(frame,[box],0, 255)\n",
    "\n",
    "# bottom_left = find_corner(rect, BOTTOM_LEFT)\n",
    "# frame[bottom_left[1], bottom_left[0]] = 255\n",
    "\n",
    "frame = np.flip(frame, axis=-1)\n",
    "\n",
    "while True:\n",
    "    cv2.imshow(WINDOW, frame)\n",
    "\n",
    "    keypress = cv2.waitKey(50) & 0xFF\n",
    "    if keypress == ord('q'):\n",
    "        break\n",
    "\n",
    "cv2.destroyAllWindows()"
   ]
  },
  {
   "cell_type": "code",
   "execution_count": 6,
   "metadata": {},
   "outputs": [],
   "source": [
    "eccs = np.array([0.7545, 0.9139, 0.8341, 0.8378, 0.8331, 0.5455, 0.7886, 0.6353,\n",
    "       0.9032, 0.9559, 0.8291, 0.8673, 0.7835, 0.688 , 0.7497, 0.793 ,\n",
    "       0.8063, 0.7447, 0.8413, 0.801 , 0.9251, 0.8095, 0.8866, 0.8578,\n",
    "       0.7454, 0.7633, 0.6504, 0.8612, 0.8829, 0.8556, 0.7998, 0.8248,\n",
    "       0.8622, 0.8411, 0.8665, 0.7666, 0.8264, 0.7971, 0.6028, 0.8427,\n",
    "       0.7814, 0.7559, 0.821 , 0.5744, 0.8071, 0.7773, 0.7016, 0.6162,\n",
    "       0.8074, 0.8991, 0.7544, 0.7971, 0.7734, 0.8903, 0.6663, 0.8793,\n",
    "       0.9013, 0.8378, 0.8867, 0.8345, 0.8534, 0.7872, 0.8423, 0.8435,\n",
    "       0.8931, 0.8737, 0.8805, 0.8576, 0.8757, 0.7749, 0.8636, 0.8426,\n",
    "       0.8741, 0.7946, 0.8762, 0.8271, 0.6841, 0.6228, 0.8054, 0.7878,\n",
    "       0.7489, 0.8234, 0.8507, 0.833 , 0.5016, 0.755 , 0.9082, 0.8568,\n",
    "       0.8885, 0.8863, 0.8472, 0.7979, 0.8787, 0.6902, 0.6156, 0.8538,\n",
    "       0.8311, 0.8823, 0.8676, 0.8545, 0.9145, 0.8356, 0.7202, 0.8442,\n",
    "       0.8416, 0.8296, 0.8805, 0.8971, 0.825 , 0.7488, 0.7789, 0.7402,\n",
    "       0.7594, 0.7833, 0.84  , 0.8433, 0.8841, 0.8745, 0.7741, 0.8017,\n",
    "       0.8085, 0.7021, 0.6631, 0.8533, 0.771 , 0.8317, 0.9106, 0.826 ,\n",
    "       0.789 , 0.8678, 0.6788, 0.7271, 0.8846, 0.9454, 0.8695, 0.8089,\n",
    "       0.8405, 0.8918, 0.5358, 0.7859, 0.8755, 0.839 , 0.6913, 0.8724,\n",
    "       0.761 , 0.815 , 0.8296, 0.8106, 0.8595, 0.8415, 0.873 , 0.8182,\n",
    "       0.815 , 0.6101, 0.7566, 0.7578, 0.8072, 0.8264, 0.881 , 0.9033,\n",
    "       0.8303, 0.8731, 0.8927, 0.8603, 0.9068, 0.7087, 0.7516, 0.851 ,\n",
    "       0.7782, 0.8522, 0.8294, 0.8543, 0.8645, 0.8697, 0.5316, 0.84  ,\n",
    "       0.8036, 0.8531, 0.8315, 0.8264, 0.8807, 0.4856, 0.7929, 0.8091,\n",
    "       0.8463, 0.7948, 0.575 , 0.9176, 0.7317, 0.8342, 0.5061, 0.8192,\n",
    "       0.8555, 0.6084, 0.8659, 0.8196, 0.8665, 0.7915, 0.9276, 0.7411,\n",
    "       0.9124, 0.8648, 0.8865, 0.8874, 0.8096, 0.8827, 0.8848, 0.4997,\n",
    "       0.844 , 0.8938, 0.8017, 0.8648, 0.8309, 0.8882, 0.6597, 0.7776,\n",
    "       0.8414, 0.7562, 0.7886, 0.7773])"
   ]
  },
  {
   "cell_type": "code",
   "execution_count": 7,
   "metadata": {},
   "outputs": [
    {
     "data": {
      "text/plain": [
       "(array([ 5.,  4.,  6.,  5.,  9., 21., 42., 66., 53.,  9.]),\n",
       " array([0.4856 , 0.53263, 0.57966, 0.62669, 0.67372, 0.72075, 0.76778,\n",
       "        0.81481, 0.86184, 0.90887, 0.9559 ]),\n",
       " <BarContainer object of 10 artists>)"
      ]
     },
     "execution_count": 7,
     "metadata": {},
     "output_type": "execute_result"
    },
    {
     "data": {
      "image/png": "[encoded data removed]",
      "text/plain": [
       "<Figure size 640x480 with 1 Axes>"
      ]
     },
     "metadata": {},
     "output_type": "display_data"
    }
   ],
   "source": [
    "plt.hist(eccs)"
   ]
  },
  {
   "cell_type": "code",
   "execution_count": 8,
   "metadata": {},
   "outputs": [
    {
     "data": {
      "text/plain": [
       "16"
      ]
     },
     "execution_count": 8,
     "metadata": {},
     "output_type": "execute_result"
    }
   ],
   "source": [
    "((eccs < 0.65) | (eccs > 0.96)).sum()"
   ]
  },
  {
   "cell_type": "code",
   "execution_count": 10,
   "metadata": {},
   "outputs": [
    {
     "data": {
      "text/plain": [
       "(array([4., 2., 1., 3., 3., 5., 9., 5., 3., 9.]),\n",
       " array([0.8091 , 0.81235, 0.8156 , 0.81885, 0.8221 , 0.82535, 0.8286 ,\n",
       "        0.83185, 0.8351 , 0.83835, 0.8416 ]),\n",
       " <BarContainer object of 10 artists>)"
      ]
     },
     "execution_count": 10,
     "metadata": {},
     "output_type": "execute_result"
    },
    {
     "data": {
      "image/png": "[encoded data removed]",
      "text/plain": [
       "<Figure size 640x480 with 1 Axes>"
      ]
     },
     "metadata": {},
     "output_type": "display_data"
    }
   ],
   "source": [
    "sorted(eccs)[int(len(eccs) * 0.4):int(len(eccs) * 0.6)]"
   ]
  },
  {
   "cell_type": "code",
   "execution_count": 48,
   "metadata": {},
   "outputs": [],
   "source": [
    "frame_i, yi, xi = np.where(LV_masks)"
   ]
  },
  {
   "cell_type": "code",
   "execution_count": null,
   "metadata": {},
   "outputs": [],
   "source": [
    "yi.mean()"
   ]
  }
 ],
 "metadata": {
  "kernelspec": {
   "display_name": "ultrasound",
   "language": "python",
   "name": "python3"
  },
  "language_info": {
   "codemirror_mode": {
    "name": "ipython",
    "version": 3
   },
   "file_extension": ".py",
   "mimetype": "text/x-python",
   "name": "python",
   "nbconvert_exporter": "python",
   "pygments_lexer": "ipython3",
   "version": "3.8.15"
  },
  "orig_nbformat": 4
 },
 "nbformat": 4,
 "nbformat_minor": 2
}
